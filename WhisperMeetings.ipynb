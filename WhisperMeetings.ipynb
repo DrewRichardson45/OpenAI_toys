{
  "cells": [
    {
      "cell_type": "code",
      "execution_count": 29,
      "metadata": {},
      "outputs": [],
      "source": [
        "#!pip uninstall torch -y"
      ]
    },
    {
      "cell_type": "code",
      "execution_count": 30,
      "metadata": {},
      "outputs": [],
      "source": [
        "#%pip cache purge"
      ]
    },
    {
      "cell_type": "code",
      "execution_count": 31,
      "metadata": {},
      "outputs": [
        {
          "name": "stdout",
          "output_type": "stream",
          "text": [
            "Looking in links: https://download.pytorch.org/whl/torch_stable.html\n",
            "Requirement already satisfied: torch in c:\\users\\dragon\\appdata\\local\\packages\\pythonsoftwarefoundation.python.3.10_qbz5n2kfra8p0\\localcache\\local-packages\\python310\\site-packages (1.13.1+cu117)\n",
            "Requirement already satisfied: torchvision in c:\\users\\dragon\\appdata\\local\\packages\\pythonsoftwarefoundation.python.3.10_qbz5n2kfra8p0\\localcache\\local-packages\\python310\\site-packages (0.14.1+cu117)\n",
            "Requirement already satisfied: torchaudio in c:\\users\\dragon\\appdata\\local\\packages\\pythonsoftwarefoundation.python.3.10_qbz5n2kfra8p0\\localcache\\local-packages\\python310\\site-packages (0.13.1+cu117)\n",
            "Requirement already satisfied: typing-extensions in c:\\users\\dragon\\appdata\\local\\packages\\pythonsoftwarefoundation.python.3.10_qbz5n2kfra8p0\\localcache\\local-packages\\python310\\site-packages (from torch) (4.4.0)\n",
            "Requirement already satisfied: requests in c:\\users\\dragon\\appdata\\local\\packages\\pythonsoftwarefoundation.python.3.10_qbz5n2kfra8p0\\localcache\\local-packages\\python310\\site-packages (from torchvision) (2.28.2)\n",
            "Requirement already satisfied: pillow!=8.3.*,>=5.3.0 in c:\\users\\dragon\\appdata\\local\\packages\\pythonsoftwarefoundation.python.3.10_qbz5n2kfra8p0\\localcache\\local-packages\\python310\\site-packages (from torchvision) (9.4.0)\n",
            "Requirement already satisfied: numpy in c:\\users\\dragon\\appdata\\local\\packages\\pythonsoftwarefoundation.python.3.10_qbz5n2kfra8p0\\localcache\\local-packages\\python310\\site-packages (from torchvision) (1.24.1)\n",
            "Requirement already satisfied: idna<4,>=2.5 in c:\\users\\dragon\\appdata\\local\\packages\\pythonsoftwarefoundation.python.3.10_qbz5n2kfra8p0\\localcache\\local-packages\\python310\\site-packages (from requests->torchvision) (3.4)\n",
            "Requirement already satisfied: urllib3<1.27,>=1.21.1 in c:\\users\\dragon\\appdata\\local\\packages\\pythonsoftwarefoundation.python.3.10_qbz5n2kfra8p0\\localcache\\local-packages\\python310\\site-packages (from requests->torchvision) (1.26.14)\n",
            "Requirement already satisfied: certifi>=2017.4.17 in c:\\users\\dragon\\appdata\\local\\packages\\pythonsoftwarefoundation.python.3.10_qbz5n2kfra8p0\\localcache\\local-packages\\python310\\site-packages (from requests->torchvision) (2022.12.7)\n",
            "Requirement already satisfied: charset-normalizer<4,>=2 in c:\\users\\dragon\\appdata\\local\\packages\\pythonsoftwarefoundation.python.3.10_qbz5n2kfra8p0\\localcache\\local-packages\\python310\\site-packages (from requests->torchvision) (2.1.1)\n",
            "Note: you may need to restart the kernel to use updated packages.\n"
          ]
        }
      ],
      "source": [
        "%pip install torch torchvision torchaudio -f https://download.pytorch.org/whl/torch_stable.html"
      ]
    },
    {
      "cell_type": "code",
      "execution_count": 32,
      "metadata": {},
      "outputs": [],
      "source": [
        "!pip install openai -q"
      ]
    },
    {
      "cell_type": "code",
      "execution_count": 33,
      "metadata": {},
      "outputs": [],
      "source": [
        "import openai"
      ]
    },
    {
      "cell_type": "code",
      "execution_count": 34,
      "metadata": {},
      "outputs": [],
      "source": [
        "from getpass import getpass\n",
        "openai.api_key = getpass()"
      ]
    },
    {
      "cell_type": "markdown",
      "metadata": {
        "id": "8EgSHt2_Sbch"
      },
      "source": [
        "## OpenAI Whisper\n",
        "\n",
        "To get started, we'll first install the OpenAI Whisper Python package using pip."
      ]
    },
    {
      "cell_type": "code",
      "execution_count": 35,
      "metadata": {
        "colab": {
          "base_uri": "https://localhost:8080/"
        },
        "id": "FfWRmb8dwup-",
        "outputId": "28789f01-5149-42d9-9b4c-6570c5b34b00"
      },
      "outputs": [
        {
          "name": "stdout",
          "output_type": "stream",
          "text": [
            "Note: you may need to restart the kernel to use updated packages.\n"
          ]
        }
      ],
      "source": [
        "%pip install git+https://github.com/openai/whisper.git -q\n"
      ]
    },
    {
      "cell_type": "markdown",
      "metadata": {
        "id": "YSqFgn59wxkO"
      },
      "source": [
        "We'll also make sure we have a GPU available in Google Colab. If you don't have a GPU, go to Runtime -> Change Runtime Type -> Hardware Accelator and select GPU. I have Colab Pro so I get access to Premium GPU's. Run the command below to show which GPU is being used in the current runtime:"
      ]
    },
    {
      "cell_type": "code",
      "execution_count": 36,
      "metadata": {
        "colab": {
          "base_uri": "https://localhost:8080/"
        },
        "id": "eW3KG76YTbj5",
        "outputId": "49c3dcfe-9903-4285-f3e5-e724fc86545d"
      },
      "outputs": [
        {
          "name": "stdout",
          "output_type": "stream",
          "text": [
            "GPU 0: NVIDIA GeForce RTX 3080 Ti (UUID: GPU-3d950b7d-4623-0f11-ce25-ece7d6375569)\n"
          ]
        }
      ],
      "source": [
        "!nvidia-smi -L"
      ]
    },
    {
      "cell_type": "markdown",
      "metadata": {
        "id": "HB-rNLbcw6IF"
      },
      "source": [
        "Whisper transcribes audio speech to text. To see this in action, we'll need some audio to operate on. We'll extract some audio from a YouTube video using the pytube Python package. let's install it with pip."
      ]
    },
    {
      "cell_type": "code",
      "execution_count": 37,
      "metadata": {
        "id": "7tMC7-hcJ-5Q"
      },
      "outputs": [],
      "source": [
        "import whisper\n",
        "from pytube import YouTube"
      ]
    },
    {
      "cell_type": "markdown",
      "metadata": {
        "id": "sX47Qx0CxdIs"
      },
      "source": [
        "Whisper has a variety of models of varying sizes. The large model will be more accurate but will also be more resource intensive."
      ]
    },
    {
      "cell_type": "markdown",
      "metadata": {
        "id": "e4sRzHB3S1-I"
      },
      "source": [
        "![Screen Shot 2022-11-18 at 4.27.50 PM.png](data:image/png;base64,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)"
      ]
    },
    {
      "cell_type": "markdown",
      "metadata": {
        "id": "xPVgF-NhS69X"
      },
      "source": [
        "The base model will be sufficient for our needs. Let's load the base model like so:"
      ]
    },
    {
      "cell_type": "code",
      "execution_count": 38,
      "metadata": {
        "colab": {
          "base_uri": "https://localhost:8080/"
        },
        "id": "dsDvCjk1KNi0",
        "outputId": "f9afe89d-16ca-439a-8d07-4e331c260687"
      },
      "outputs": [],
      "source": [
        "model = whisper.load_model('medium.en', device='cuda')"
      ]
    },
    {
      "cell_type": "code",
      "execution_count": 52,
      "metadata": {
        "colab": {
          "base_uri": "https://localhost:8080/"
        },
        "id": "0iycvLUGOyYq",
        "outputId": "518531dc-232b-4df1-8cb2-54a1d6d4e343"
      },
      "outputs": [],
      "source": [
        "import datetime\n",
        "\n",
        "\n",
        "def tran_file(file_path):\n",
        "    # save a timestamp before transcription\n",
        "    t1 = datetime.datetime.now()\n",
        "    print(f\"started at {t1}\")\n",
        "\n",
        "    # do the transcription\n",
        "\n",
        "    output = model.transcribe(file_path, language='English') #fed_meeting_trimmed.mp4\")\n",
        "\n",
        "    # show time elapsed after transcription is complete.\n",
        "    t2 = datetime.datetime.now()\n",
        "    print(f\"ended at {t2}\")\n",
        "    print(f\"time elapsed: {t2 - t1}\")\n",
        "    return output"
      ]
    },
    {
      "cell_type": "code",
      "execution_count": 53,
      "metadata": {},
      "outputs": [],
      "source": [
        "\n",
        "def openaiCreate(prompt,maxtokens):\n",
        "    response =  openai.Completion.create(\n",
        "        engine=\"text-davinci-003\", \n",
        "        prompt=prompt,\n",
        "        temperature=0.7, # The temperature controls the randomness of the response, represented as a range from 0 to 1. A lower value of temperature means the API will respond with the first thing that the model sees; a higher value means the model evaluates possible responses that could fit into the context before spitting out the result.\n",
        "        max_tokens=maxtokens,\n",
        "        top_p=1, # Top P controls how many random results the model should consider for completion, as suggested by the temperature dial, thus determining the scope of randomness. Top P’s range is from 0 to 1. A lower value limits creativity, while a higher value expands its horizons.\n",
        "        frequency_penalty=0,\n",
        "        presence_penalty=1\n",
        "    )\n",
        "    response_text = response[\"choices\"][0][\"text\"]+'\\n\\n'\n",
        "    return response_text"
      ]
    },
    {
      "cell_type": "code",
      "execution_count": 57,
      "metadata": {},
      "outputs": [],
      "source": [
        "import time\n",
        "\n",
        "def tryresponse(prompt,maxtokens,failcount=0):\n",
        "    summary_responses = []\n",
        "    # Loop until the number of failed attempts is less than 4\n",
        "    while failcount < 4:\n",
        "        try:\n",
        "            # Make an OpenAI API request with the given prompt and maximum tokens\n",
        "            response_text = openaiCreate(prompt, maxtokens)\n",
        "        except openai.error.APIError as e:\n",
        "            # Handle API errors\n",
        "            print(f\"OpenAI API returned an API Error: {e}\")\n",
        "            failcount = failcount + 1\n",
        "            # Increase waiting time before trying again\n",
        "            time.sleep(5^failcount)\n",
        "            # Recursively call the function again with updated failcount\n",
        "            response_text = tryresponse(prompt, maxtokens, failcount)\n",
        "            pass\n",
        "        except openai.error.APIConnectionError as e:\n",
        "            # Handle connection errors\n",
        "            print(f\"Failed to connect to OpenAI API: {e}\")\n",
        "            failcount = failcount + 1\n",
        "            # Increase waiting time before trying again\n",
        "            time.sleep(5^failcount)\n",
        "            # Recursively call the function again with updated failcount\n",
        "            response_text = tryresponse(prompt, maxtokens, failcount)\n",
        "            pass\n",
        "        except openai.error.RateLimitError as e:\n",
        "            # Handle rate limit errors\n",
        "            print(f\"OpenAI API request exceeded rate limit: {e}\")\n",
        "            failcount = failcount + 1\n",
        "            # Increase waiting time before trying again\n",
        "            time.sleep(5^failcount)\n",
        "            # Recursively call the function again with updated failcount\n",
        "            response_text = tryresponse(prompt, maxtokens, failcount)\n",
        "            pass\n",
        "                \n",
        "        # If the request is successful, append the response text to the summary_responses list\n",
        "        #summary_responses.append(response_text)\n",
        "\n",
        "        # Return the list of response texts\n",
        "        #return summary_responses\n",
        "        return response_text\n"
      ]
    },
    {
      "cell_type": "code",
      "execution_count": 58,
      "metadata": {},
      "outputs": [],
      "source": [
        "import numpy as np\n",
        "import math\n",
        "\n",
        "def summarize(fulltext,maxtokens = 150,hint='\\n\\ntl;dr:'):\n",
        "    # split the full text into words\n",
        "    words = fulltext.split(\" \")\n",
        "\n",
        "    # calculate number of segments as the floor of the length of words divided by 2500\n",
        "    n = math.floor(len(words)/2500)\n",
        "    # if number of segments is less than 1, set it to 1\n",
        "    numsegments = n if n > 1 else 1\n",
        "\n",
        "    # split words into chunks based on the number of segments\n",
        "    chunks = np.array_split(words, numsegments)\n",
        "\n",
        "    # initialize an empty list to store summary responses\n",
        "    summary_responses = []\n",
        "\n",
        "    # loop through each chunk\n",
        "    for chunk in chunks:\n",
        "        # join words in the chunk back into a string separated by spaces\n",
        "        paragraphs = ' '.join(list(chunk))\n",
        "\n",
        "        # create the prompt by adding the hint to the joined chunk\n",
        "        prompt = f\"{paragraphs}{hint}\"\n",
        "\n",
        "        # generate response text using the prompt\n",
        "        response_text = tryresponse(prompt,maxtokens)\n",
        "        # append the response text to the list of summary responses\n",
        "        summary_responses.append(response_text)\n",
        "\n",
        "    # join all the summary responses into a single string\n",
        "    full_summary = \"\".join(summary_responses)\n",
        "\n",
        "    # return the full summary\n",
        "    return full_summary\n",
        "\n",
        "    "
      ]
    },
    {
      "cell_type": "code",
      "execution_count": 63,
      "metadata": {},
      "outputs": [
        {
          "name": "stdout",
          "output_type": "stream",
          "text": [
            "D:\\Zoom\\Zoom\\2020-04-24 20.16.42 Cole Williams' Personal Meeting Room 6149609914\\audio_only.m4a\n",
            "D:\\Zoom\\Zoom\\2020-05-12 20.11.56 Cole Williams' Zoom Meeting 85698491966\\audio_only.m4a\n",
            "D:\\Zoom\\Zoom\\2020-05-14 20.22.07 Cole Williams' Zoom Meeting 83830817766\\audio_only.m4a\n",
            "D:\\Zoom\\Zoom\\2020-05-18 20.08.39 Cole Williams' Zoom Meeting 84622214214\\audio_only.m4a\n",
            "D:\\Zoom\\Zoom\\2020-05-18 20.38.17 Cole Williams' Zoom Meeting 84622214214\\audio_only.m4a\n",
            "D:\\Zoom\\Zoom\\2020-05-19 20.13.54 Cole Williams' Zoom Meeting 82049874782\\audio_only.m4a\n",
            "D:\\Zoom\\Zoom\\2020-05-20 20.09.39 Cole Williams' Zoom Meeting 89233474290\\audio_only.m4a\n",
            "D:\\Zoom\\Zoom\\2020-06-01 20.11.57 Cole Williams' Zoom Meeting 84312692725\\audio_only.m4a\n",
            "D:\\Zoom\\Zoom\\2020-08-24 20.10.39 OCCRA BOD meeting 8_24_20 81748736908\\audio_only.m4a\n",
            "D:\\Zoom\\Zoom\\2020-09-21 20.08.16 OCCRA BoD meeting 85377985456\\audio_only.m4a\n",
            "D:\\Zoom\\Zoom\\2020-10-12 20.10.50 Cole Williams' Personal Meeting Room 6149609914\\audio_only.m4a\n",
            "D:\\Zoom\\Zoom\\2020-11-09 20.05.04 Cole Williams' Personal Meeting Room 6149609914\\audio_only.m4a\n",
            "D:\\Zoom\\Zoom\\2020-11-16 20.04.56 Cole Williams' Personal Meeting Room 6149609914\\audio_only.m4a\n",
            "D:\\Zoom\\Zoom\\2020-12-07 20.09.06 Cole Williams' Personal Meeting Room 6149609914\\audio_only.m4a\n",
            "D:\\Zoom\\Zoom\\2021-01-04 20.11.08 Cole Williams' Personal Meeting Room 6149609914\\audio_only.m4a\n",
            "D:\\Zoom\\Zoom\\2021-01-18 20.29.41 Cole Williams' Personal Meeting Room 6149609914\\audio_only.m4a\n",
            "D:\\Zoom\\Zoom\\2021-02-15 17.27.41 Cole Williams's Personal Meeting Room 6149609914\\audio_only.m4a\n",
            "D:\\Zoom\\Zoom\\2021-03-08 17.09.13 Occra BOD 86049080313\\audio_only.m4a\n",
            "D:\\Zoom\\Zoom\\2021-06-10 19.40.12 Cole Williams' Zoom Meeting 89858193458\\audio_only.m4a\n",
            "D:\\Zoom\\Zoom\\2021-11-16 20.03.20 Cole Williams's Personal Meeting Room 6149609914\\audio1727560705.m4a\n",
            "D:\\Zoom\\Zoom\\2022-02-24 20.08.33 Cole Williams's Personal Meeting Room\\audio1739774919.m4a\n",
            "D:\\Zoom\\Zoom\\2023-01-19 19.05.01 bod\\audio1400578776.m4a\n"
          ]
        }
      ],
      "source": [
        "import os\n",
        "\n",
        "\n",
        "def transcribe_audio_subfiles(directory):\n",
        "    \"\"\"\n",
        "    This function will generate the file names in a directory \n",
        "    tree by walking the tree either top-down or bottom-up. For each \n",
        "    directory in the tree rooted at directory top (including top itself), \n",
        "    it yields a 3-tuple (dirpath, dirnames, filenames).\n",
        "    \"\"\"\n",
        "    file_paths = []  # List which will store all of the full filepaths.\n",
        "\n",
        "    # Walk the tree.\n",
        "    for root, directories, files in os.walk(directory):\n",
        "        for filename in files:\n",
        "            # Join the two strings in order to form the full filepath.\n",
        "            filepath = os.path.join(root, filename)\n",
        "            file_paths.append(filepath)  # Add it to the list.\n",
        "            if filepath.endswith(\".m4a\"):\n",
        "                print (filepath)\n",
        "                if os.path.isfile(root+\"\\\\transcription.txt\"):\n",
        "                    readfile = open(root+\"\\\\transcription.txt\",'r') \n",
        "                    fulltext = readfile.read()\n",
        "                    readfile.close()\n",
        "                else:     \n",
        "                    output = tran_file(filepath)\n",
        "                    fulltext = output['text']  \n",
        "                    with open(root+\"\\\\transcription.txt\",'w+') as file:\n",
        "                            file.write(fulltext)\n",
        "                            file.close()\n",
        "                \n",
        "                if os.path.isfile(root+\"\\\\summary.txt\"):\n",
        "                    readfile = open(root+\"\\\\summary.txt\",'r') \n",
        "                    full_summary = readfile.read()\n",
        "                    readfile.close()\n",
        "                else:\n",
        "                    full_summary = summarize(fulltext)\n",
        "                                       \n",
        "                    with open(root+\"\\\\summary.txt\",'w+') as file2:\n",
        "                        file2.write(full_summary)\n",
        "                        file2.close()\n",
        "\n",
        "                if os.path.isfile(root+\"\\\\short.txt\"):\n",
        "                    readfile = open(root+\"\\\\short.txt\",'r') \n",
        "                    full_short = readfile.read()\n",
        "                    readfile.close()\n",
        "                else:\n",
        "                    full_short = summarize(full_summary)\n",
        "                                       \n",
        "                    with open(root+\"\\\\short.txt\",'w+') as file2:\n",
        "                        file2.write(full_short)\n",
        "                        file2.close() \n",
        "\n",
        "                full_title = summarize('OCCRA Board of Directors Meeting notes:\\n\\n'+full_summary,25,'\\n\\nThe 150 character title of this document should be (with no special characters):')\n",
        "                                    \n",
        "                with open(root+\"\\\\title.txt\",'w+') as file2:\n",
        "                    file2.write(full_title)\n",
        "                    file2.close() \n",
        "\n",
        "    return file_paths  # Self-explanatory.\n",
        "\n",
        "# Run the above function and store its results in a variable.   \n",
        "full_file_paths = transcribe_audio_subfiles(\"D:\\Zoom\\Zoom\")"
      ]
    }
  ],
  "metadata": {
    "accelerator": "GPU",
    "colab": {
      "provenance": []
    },
    "gpuClass": "premium",
    "kernelspec": {
      "display_name": "Python 3",
      "language": "python",
      "name": "python3"
    },
    "language_info": {
      "codemirror_mode": {
        "name": "ipython",
        "version": 3
      },
      "file_extension": ".py",
      "mimetype": "text/x-python",
      "name": "python",
      "nbconvert_exporter": "python",
      "pygments_lexer": "ipython3",
      "version": "3.10.9"
    },
    "vscode": {
      "interpreter": {
        "hash": "de7daac8e440d7531a121ed4d7ce47c49a19a5be0903e9d219148f5dad97d1f3"
      }
    }
  },
  "nbformat": 4,
  "nbformat_minor": 0
}
